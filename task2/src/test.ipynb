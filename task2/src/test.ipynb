{
 "cells": [
  {
   "cell_type": "code",
   "execution_count": 2,
   "id": "61ab8735",
   "metadata": {},
   "outputs": [
    {
     "name": "stdout",
     "output_type": "stream",
     "text": [
      "loading annotations into memory...\n",
      "Done (t=0.27s)\n",
      "creating index...\n",
      "index created!\n"
     ]
    }
   ],
   "source": [
    "from pycocotools.coco import COCO\n",
    "\n",
    "# Path to load the COCO annotation file\n",
    "annotation_file = './voc_to_coco.json'\n",
    "\n",
    "# Initialise the COCO object\n",
    "coco = COCO(annotation_file)\n"
   ]
  },
  {
   "cell_type": "code",
   "execution_count": 3,
   "id": "afe39e92",
   "metadata": {},
   "outputs": [
    {
     "name": "stdout",
     "output_type": "stream",
     "text": [
      "Dataset Info:\n",
      "description: VOC to COCO conversion\n",
      "version: 1.0\n",
      "year: 2025\n",
      "date_created: 2025-05-23\n"
     ]
    }
   ],
   "source": [
    "# 查看 info 字段\n",
    "info = coco.dataset.get('info', {})\n",
    "print(\"Dataset Info:\")\n",
    "for key, value in info.items():\n",
    "    print(f\"{key}: {value}\")"
   ]
  },
  {
   "cell_type": "code",
   "execution_count": 4,
   "id": "1bfaf4f1",
   "metadata": {},
   "outputs": [
    {
     "name": "stdout",
     "output_type": "stream",
     "text": [
      "Total number of images: 17125\n",
      "\n",
      "Image Information (first 3 images):\n",
      "Image ID: 1, File Name: 2011_001429.jpg, Width: 500, Height: 375\n",
      "Image ID: 2, File Name: 2010_001241.jpg, Width: 375, Height: 500\n",
      "Image ID: 3, File Name: 2008_002666.jpg, Width: 332, Height: 500\n"
     ]
    }
   ],
   "source": [
    "# 获取所有图像 ID\n",
    "img_ids = coco.getImgIds()\n",
    "print(f\"Total number of images: {len(img_ids)}\")\n",
    "\n",
    "# 加载图像信息\n",
    "images = coco.loadImgs(img_ids)\n",
    "\n",
    "# 打印前几个图像的信息\n",
    "print(\"\\nImage Information (first 3 images):\")\n",
    "for img in images[:3]:  # 限制只显示前 3 张图像\n",
    "    print(f\"Image ID: {img['id']}, File Name: {img['file_name']}, \"\n",
    "          f\"Width: {img['width']}, Height: {img['height']}\")"
   ]
  },
  {
   "cell_type": "code",
   "execution_count": 5,
   "id": "50cb8384",
   "metadata": {},
   "outputs": [
    {
     "name": "stdout",
     "output_type": "stream",
     "text": [
      "Total number of categories: 20\n",
      "\n",
      "Category Information:\n",
      "Category ID: 1, Name: aeroplane, Supercategory: none\n",
      "Category ID: 2, Name: bicycle, Supercategory: none\n",
      "Category ID: 3, Name: bird, Supercategory: none\n",
      "Category ID: 4, Name: boat, Supercategory: none\n",
      "Category ID: 5, Name: bottle, Supercategory: none\n",
      "Category ID: 6, Name: bus, Supercategory: none\n",
      "Category ID: 7, Name: car, Supercategory: none\n",
      "Category ID: 8, Name: cat, Supercategory: none\n",
      "Category ID: 9, Name: chair, Supercategory: none\n",
      "Category ID: 10, Name: cow, Supercategory: none\n",
      "Category ID: 11, Name: diningtable, Supercategory: none\n",
      "Category ID: 12, Name: dog, Supercategory: none\n",
      "Category ID: 13, Name: horse, Supercategory: none\n",
      "Category ID: 14, Name: motorbike, Supercategory: none\n",
      "Category ID: 15, Name: person, Supercategory: none\n",
      "Category ID: 16, Name: pottedplant, Supercategory: none\n",
      "Category ID: 17, Name: sheep, Supercategory: none\n",
      "Category ID: 18, Name: sofa, Supercategory: none\n",
      "Category ID: 19, Name: train, Supercategory: none\n",
      "Category ID: 20, Name: tvmonitor, Supercategory: none\n"
     ]
    }
   ],
   "source": [
    "# 获取所有类别 ID\n",
    "cat_ids = coco.getCatIds()\n",
    "print(f\"Total number of categories: {len(cat_ids)}\")\n",
    "\n",
    "# 加载类别信息\n",
    "categories = coco.loadCats(cat_ids)\n",
    "\n",
    "# 打印类别信息\n",
    "print(\"\\nCategory Information:\")\n",
    "for cat in categories:\n",
    "    print(f\"Category ID: {cat['id']}, Name: {cat['name']}, \"\n",
    "          f\"Supercategory: {cat.get('supercategory', 'N/A')}\")"
   ]
  },
  {
   "cell_type": "code",
   "execution_count": 6,
   "id": "5e69967d",
   "metadata": {},
   "outputs": [
    {
     "name": "stdout",
     "output_type": "stream",
     "text": [
      "Total number of annotations: 40138\n",
      "\n",
      "Annotations per Category:\n",
      "Category: aeroplane (ID: 1), Annotations: 1002\n",
      "Category: bicycle (ID: 2), Annotations: 837\n",
      "Category: bird (ID: 3), Annotations: 1271\n",
      "Category: boat (ID: 4), Annotations: 1059\n",
      "Category: bottle (ID: 5), Annotations: 1561\n",
      "Category: bus (ID: 6), Annotations: 685\n",
      "Category: car (ID: 7), Annotations: 2492\n",
      "Category: cat (ID: 8), Annotations: 1277\n",
      "Category: chair (ID: 9), Annotations: 3056\n",
      "Category: cow (ID: 10), Annotations: 771\n",
      "Category: diningtable (ID: 11), Annotations: 800\n",
      "Category: dog (ID: 12), Annotations: 1598\n",
      "Category: horse (ID: 13), Annotations: 803\n",
      "Category: motorbike (ID: 14), Annotations: 801\n",
      "Category: person (ID: 15), Annotations: 17401\n",
      "Category: pottedplant (ID: 16), Annotations: 1202\n",
      "Category: sheep (ID: 17), Annotations: 1084\n",
      "Category: sofa (ID: 18), Annotations: 841\n",
      "Category: train (ID: 19), Annotations: 704\n",
      "Category: tvmonitor (ID: 20), Annotations: 893\n",
      "\n",
      "Annotation Details (first 3 annotations):\n",
      "Annotation ID: 1, Image ID: 1, Category ID: 15, BBox: [244.0, 66.0, 199.0, 309.0], Area: 61491.0, Segmentation: []...\n",
      "Annotation ID: 2, Image ID: 2, Category ID: 15, BBox: [91.0, 264.0, 39.0, 54.0], Area: 2106.0, Segmentation: []...\n",
      "Annotation ID: 3, Image ID: 2, Category ID: 15, BBox: [222.0, 250.0, 42.0, 95.0], Area: 3990.0, Segmentation: []...\n"
     ]
    }
   ],
   "source": [
    "# 获取所有标注 ID\n",
    "ann_ids = coco.getAnnIds()\n",
    "print(f\"Total number of annotations: {len(ann_ids)}\")\n",
    "\n",
    "# 加载标注信息\n",
    "annotations = coco.loadAnns(ann_ids)\n",
    "\n",
    "# 统计每个类别的标注数量\n",
    "cat_anns = {cat_id: 0 for cat_id in cat_ids}\n",
    "for ann in annotations:\n",
    "    cat_anns[ann['category_id']] += 1\n",
    "\n",
    "# 打印类别对应的标注数量\n",
    "print(\"\\nAnnotations per Category:\")\n",
    "for cat_id, count in cat_anns.items():\n",
    "    cat_name = coco.loadCats([cat_id])[0]['name']\n",
    "    print(f\"Category: {cat_name} (ID: {cat_id}), Annotations: {count}\")\n",
    "\n",
    "# 打印前几个标注的详细信息\n",
    "print(\"\\nAnnotation Details (first 3 annotations):\")\n",
    "for ann in annotations[:3]:  # 限制只显示前 3 个标注\n",
    "    print(f\"Annotation ID: {ann['id']}, Image ID: {ann['image_id']}, \"\n",
    "          f\"Category ID: {ann['category_id']}, \"\n",
    "          f\"BBox: {ann['bbox']}, Area: {ann['area']}, \"\n",
    "          f\"Segmentation: {ann.get('segmentation', 'N/A')[:10]}...\")"
   ]
  },
  {
   "cell_type": "code",
   "execution_count": 7,
   "id": "2862a315",
   "metadata": {},
   "outputs": [
    {
     "name": "stdout",
     "output_type": "stream",
     "text": [
      "\n",
      "Annotations per Image:\n",
      "Image: 2011_001429.jpg, Annotations: 1\n",
      "Image: 2010_001241.jpg, Annotations: 3\n",
      "Image: 2008_002666.jpg, Annotations: 2\n",
      "Image: 2008_000558.jpg, Annotations: 1\n",
      "Image: 2008_001719.jpg, Annotations: 1\n"
     ]
    }
   ],
   "source": [
    "# 统计每张图像的标注数量\n",
    "print(\"\\nAnnotations per Image:\")\n",
    "for img_id in img_ids[:5]:  # 限制只显示前 5 张图像\n",
    "    ann_ids = coco.getAnnIds(imgIds=[img_id])\n",
    "    img = coco.loadImgs([img_id])[0]\n",
    "    print(f\"Image: {img['file_name']}, Annotations: {len(ann_ids)}\")"
   ]
  }
 ],
 "metadata": {
  "kernelspec": {
   "display_name": "Python 3",
   "language": "python",
   "name": "python3"
  },
  "language_info": {
   "codemirror_mode": {
    "name": "ipython",
    "version": 3
   },
   "file_extension": ".py",
   "mimetype": "text/x-python",
   "name": "python",
   "nbconvert_exporter": "python",
   "pygments_lexer": "ipython3",
   "version": "3.9.21"
  }
 },
 "nbformat": 4,
 "nbformat_minor": 5
}
